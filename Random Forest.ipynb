{
 "cells": [
  {
   "cell_type": "markdown",
   "metadata": {},
   "source": [
    "# <font color= darkcyan>_Algoritmo Random Forest_</font>"
   ]
  },
  {
   "cell_type": "markdown",
   "metadata": {},
   "source": [
    "Este algoritmo perteneciente al tipo de Machine Learning conocido como Aprendizaje Supervisado, es una combinación de árboles predictores, de modo que cada árbol depende de los valores del vector aleatorio muestra independientemente y con el mismo distribuidor para todos los árboles en el bosque. La generalización error para Random Forests converge conforme el límite de número de árboles crece. La generalización error de un bosque de árboles clasificadores depende de la fuerza que posea cada árbol individualmente en el bosque y la correlación entre ellos.\n",
    "***"
   ]
  },
  {
   "cell_type": "markdown",
   "metadata": {},
   "source": [
    "## <font color= darkcyan>_Algunos usos_</font>"
   ]
  },
  {
   "cell_type": "markdown",
   "metadata": {},
   "source": [
    "-  **Teledetección**\n",
    "    -  Usado en dispositivos ETM para adquirir imagenes de la superficie terrestre.\n",
    "    -  Con una exactitud mayor y un tiempo de entrenamiento menor.\n",
    "-  **Detección de Objetos**\n",
    "    -  La detección de multiples clases se lleva a cabo mediante el uso de algoritmos RF. \n",
    "    -  Provee mejor detección en ambientes complicados.\n",
    "-  **Kinect**\n",
    "    -  El dispositivo detector de movimiento utilizado por XBOX utiliza RF.\n",
    "    -  Rastrea movimientos del sujeto y los recrea en el juego.\n",
    "***"
   ]
  },
  {
   "cell_type": "markdown",
   "metadata": {},
   "source": [
    "# <font color= darkcyan>_Ventajas_</font>"
   ]
  },
  {
   "cell_type": "markdown",
   "metadata": {},
   "source": [
    "-  **Sin overfitting**\n",
    "    -  Utilización de múltiples árboles, lo que reduuce el riesgo de overfitting.\n",
    "    -  Tiempo de entrenamiento es menor.\n",
    "-  **Alta efectividad**\n",
    "    -  Corre eficientemente en base de datos grandes.\n",
    "    -  Para datos grandes produce un nivel alto de efectividad.\n",
    "-  **Estima datos faltantes**\n",
    "    -  Random Forest puede mantener la exactitud inclusive cuando hacen falta algunos datos.\n",
    "    \n",
    "***"
   ]
  },
  {
   "cell_type": "markdown",
   "metadata": {},
   "source": [
    "## <font color= darkcyan>_¿Cómo funciona?_</font>"
   ]
  },
  {
   "cell_type": "markdown",
   "metadata": {},
   "source": [
    "Random Decision Forest es un método que opera al crear múltiples árboles de decisión durante la face de entrenamiento.\n",
    "La decisión de la mayoría de árboles es escogida por el Random Forest como decisión final.\n",
    "\n",
    "Supongamos que tenemos una entrada **_X_** y 3 árboles de decisión donde: \n",
    "\n",
    "\n",
    "| . | Árbol 1 | Árbol 2 | Árbol 3 | Random Forest | Elección |\n",
    "| --- | --- | --- | --- | --- | ---|\n",
    "| **Respueta** | Manzana | Naranja | Manzana  | . | . |\n",
    "| **Manzana** | . | . | . | <font color= blue>**2**</font> | **<--** |\n",
    "| **Naranja** | . | . | . | <font color= red>1</font> | . |\n",
    "\n",
    "<br><br>\n",
    "Se puede apreciar cómo la respuesta de el Árbol 1 y 3 fue Manzana, a diferencia del 2 que dió como respuesta Naranja, para el parámetro **_X_**, luego el algorítmo Random Forest verifica los output de cada árbol y deduce que la respuesta correcta es aquella que posee mayores ocurrencias entre los árboles, por lo tanto se decide que la respuesta correcta para el prámetro **_X_** es Manzana.\n",
    "***\n"
   ]
  },
  {
   "cell_type": "markdown",
   "metadata": {},
   "source": [
    "## <font color= darkcyan>_Referencias_</font>"
   ]
  },
  {
   "cell_type": "markdown",
   "metadata": {},
   "source": [
    "-  Breiman. L. (2001) RANDOM FORESTS. Setiembre 8, 2018. de Statistics Department University of California Berkeley, CA 94720\n",
    "-  Simplilearn. (2018) Random Forest Algorithm - Random Forest Explained | Random Forest In Machine Learning | Simplilearn. Sitio web: https://www.slideshare.net/Simplilearn/random-forest-algorithm-random-forest-explained-random-forest-in-machine-learning-simplilearn-91647398"
   ]
  },
  {
   "cell_type": "markdown",
   "metadata": {},
   "source": [
    "## <font color= darkcyan>_Código_</font>"
   ]
  },
  {
   "cell_type": "markdown",
   "metadata": {},
   "source": [
    "A continuación se muestra un código en python, en el cual se implementa una solución para el Algoritmo Random Forest, en este se utiliza un librería llamada scikit, de la cual se toma un banco de datos de lirios, el cual posee el largo y ancho del Sépalo y Pétalo en centimetros de esta especie de flores, de los cuales se puede deducir si el lirio es setosa, versicolor o virginica.<br><br><br><br>"
   ]
  },
  {
   "cell_type": "code",
   "execution_count": 1,
   "metadata": {},
   "outputs": [
    {
     "name": "stderr",
     "output_type": "stream",
     "text": [
      "/home/tenorio/.local/lib/python2.7/site-packages/sklearn/ensemble/weight_boosting.py:29: DeprecationWarning: numpy.core.umath_tests is an internal NumPy module and should not be imported. It will be removed in a future NumPy release.\n",
      "  from numpy.core.umath_tests import inner1d\n"
     ]
    }
   ],
   "source": [
    "#!/usr/bin/env python -W ignore::DeprecationWarning\n",
    "\n",
    "#Librería para la carga de datos de lirios\n",
    "from sklearn.datasets import load_iris\n",
    "\n",
    "#Librería scikit que contiene el algorítmo de Random Forest\n",
    "from sklearn.ensemble import RandomForestClassifier\n",
    "\n",
    "#Librería pandas para crear el formato de los datos(tablas)\n",
    "import pandas as pd\n",
    "\n",
    "#Librería numpy para números aleatorios\n",
    "import numpy as np\n",
    "\n",
    "\n",
    "np.random.seed()"
   ]
  },
  {
   "cell_type": "code",
   "execution_count": 2,
   "metadata": {},
   "outputs": [
    {
     "data": {
      "text/html": [
       "<div>\n",
       "<style scoped>\n",
       "    .dataframe tbody tr th:only-of-type {\n",
       "        vertical-align: middle;\n",
       "    }\n",
       "\n",
       "    .dataframe tbody tr th {\n",
       "        vertical-align: top;\n",
       "    }\n",
       "\n",
       "    .dataframe thead th {\n",
       "        text-align: right;\n",
       "    }\n",
       "</style>\n",
       "<table border=\"1\" class=\"dataframe\">\n",
       "  <thead>\n",
       "    <tr style=\"text-align: right;\">\n",
       "      <th></th>\n",
       "      <th>Sépalo largo</th>\n",
       "      <th>Sépalo ancho</th>\n",
       "      <th>Pétalo largo</th>\n",
       "      <th>Pétalo ancho</th>\n",
       "    </tr>\n",
       "  </thead>\n",
       "  <tbody>\n",
       "    <tr>\n",
       "      <th>0</th>\n",
       "      <td>5.1</td>\n",
       "      <td>3.5</td>\n",
       "      <td>1.4</td>\n",
       "      <td>0.2</td>\n",
       "    </tr>\n",
       "    <tr>\n",
       "      <th>1</th>\n",
       "      <td>4.9</td>\n",
       "      <td>3.0</td>\n",
       "      <td>1.4</td>\n",
       "      <td>0.2</td>\n",
       "    </tr>\n",
       "    <tr>\n",
       "      <th>2</th>\n",
       "      <td>4.7</td>\n",
       "      <td>3.2</td>\n",
       "      <td>1.3</td>\n",
       "      <td>0.2</td>\n",
       "    </tr>\n",
       "    <tr>\n",
       "      <th>3</th>\n",
       "      <td>4.6</td>\n",
       "      <td>3.1</td>\n",
       "      <td>1.5</td>\n",
       "      <td>0.2</td>\n",
       "    </tr>\n",
       "    <tr>\n",
       "      <th>4</th>\n",
       "      <td>5.0</td>\n",
       "      <td>3.6</td>\n",
       "      <td>1.4</td>\n",
       "      <td>0.2</td>\n",
       "    </tr>\n",
       "  </tbody>\n",
       "</table>\n",
       "</div>"
      ],
      "text/plain": [
       "   Sépalo largo  Sépalo ancho  Pétalo largo  Pétalo ancho\n",
       "0           5.1           3.5           1.4           0.2\n",
       "1           4.9           3.0           1.4           0.2\n",
       "2           4.7           3.2           1.3           0.2\n",
       "3           4.6           3.1           1.5           0.2\n",
       "4           5.0           3.6           1.4           0.2"
      ]
     },
     "execution_count": 2,
     "metadata": {},
     "output_type": "execute_result"
    }
   ],
   "source": [
    "#Carga de los datos de lirios desde la libreria\n",
    "iris = load_iris()\n",
    "\n",
    "#Se crea una tabla con las caracteristicas de los datos\n",
    "tabla = pd.DataFrame(iris.data, columns=['Sépalo largo', 'Sépalo ancho', 'Pétalo largo','Pétalo ancho'])\n",
    "\n",
    "#Muestra las primeras 5 filas\n",
    "tabla.head()\n"
   ]
  },
  {
   "cell_type": "code",
   "execution_count": 3,
   "metadata": {},
   "outputs": [
    {
     "data": {
      "text/html": [
       "<div>\n",
       "<style scoped>\n",
       "    .dataframe tbody tr th:only-of-type {\n",
       "        vertical-align: middle;\n",
       "    }\n",
       "\n",
       "    .dataframe tbody tr th {\n",
       "        vertical-align: top;\n",
       "    }\n",
       "\n",
       "    .dataframe thead th {\n",
       "        text-align: right;\n",
       "    }\n",
       "</style>\n",
       "<table border=\"1\" class=\"dataframe\">\n",
       "  <thead>\n",
       "    <tr style=\"text-align: right;\">\n",
       "      <th></th>\n",
       "      <th>Sépalo largo</th>\n",
       "      <th>Sépalo ancho</th>\n",
       "      <th>Pétalo largo</th>\n",
       "      <th>Pétalo ancho</th>\n",
       "      <th>Especies</th>\n",
       "    </tr>\n",
       "  </thead>\n",
       "  <tbody>\n",
       "    <tr>\n",
       "      <th>0</th>\n",
       "      <td>5.1</td>\n",
       "      <td>3.5</td>\n",
       "      <td>1.4</td>\n",
       "      <td>0.2</td>\n",
       "      <td>setosa</td>\n",
       "    </tr>\n",
       "    <tr>\n",
       "      <th>1</th>\n",
       "      <td>4.9</td>\n",
       "      <td>3.0</td>\n",
       "      <td>1.4</td>\n",
       "      <td>0.2</td>\n",
       "      <td>setosa</td>\n",
       "    </tr>\n",
       "    <tr>\n",
       "      <th>2</th>\n",
       "      <td>4.7</td>\n",
       "      <td>3.2</td>\n",
       "      <td>1.3</td>\n",
       "      <td>0.2</td>\n",
       "      <td>setosa</td>\n",
       "    </tr>\n",
       "    <tr>\n",
       "      <th>3</th>\n",
       "      <td>4.6</td>\n",
       "      <td>3.1</td>\n",
       "      <td>1.5</td>\n",
       "      <td>0.2</td>\n",
       "      <td>setosa</td>\n",
       "    </tr>\n",
       "    <tr>\n",
       "      <th>4</th>\n",
       "      <td>5.0</td>\n",
       "      <td>3.6</td>\n",
       "      <td>1.4</td>\n",
       "      <td>0.2</td>\n",
       "      <td>setosa</td>\n",
       "    </tr>\n",
       "  </tbody>\n",
       "</table>\n",
       "</div>"
      ],
      "text/plain": [
       "   Sépalo largo  Sépalo ancho  Pétalo largo  Pétalo ancho Especies\n",
       "0           5.1           3.5           1.4           0.2   setosa\n",
       "1           4.9           3.0           1.4           0.2   setosa\n",
       "2           4.7           3.2           1.3           0.2   setosa\n",
       "3           4.6           3.1           1.5           0.2   setosa\n",
       "4           5.0           3.6           1.4           0.2   setosa"
      ]
     },
     "execution_count": 3,
     "metadata": {},
     "output_type": "execute_result"
    }
   ],
   "source": [
    "#Se agrega la columna Especies a la tabla (objetivo a predecir)\n",
    "tabla['Especies'] = pd.Categorical.from_codes(iris.target, iris.target_names)\n",
    "\n",
    "#Muestra las primeras 5 filas\n",
    "tabla.head()"
   ]
  },
  {
   "cell_type": "code",
   "execution_count": 4,
   "metadata": {},
   "outputs": [
    {
     "data": {
      "text/html": [
       "<div>\n",
       "<style scoped>\n",
       "    .dataframe tbody tr th:only-of-type {\n",
       "        vertical-align: middle;\n",
       "    }\n",
       "\n",
       "    .dataframe tbody tr th {\n",
       "        vertical-align: top;\n",
       "    }\n",
       "\n",
       "    .dataframe thead th {\n",
       "        text-align: right;\n",
       "    }\n",
       "</style>\n",
       "<table border=\"1\" class=\"dataframe\">\n",
       "  <thead>\n",
       "    <tr style=\"text-align: right;\">\n",
       "      <th></th>\n",
       "      <th>Sépalo largo</th>\n",
       "      <th>Sépalo ancho</th>\n",
       "      <th>Pétalo largo</th>\n",
       "      <th>Pétalo ancho</th>\n",
       "      <th>Especies</th>\n",
       "      <th>De Entrenamiento</th>\n",
       "    </tr>\n",
       "  </thead>\n",
       "  <tbody>\n",
       "    <tr>\n",
       "      <th>0</th>\n",
       "      <td>5.1</td>\n",
       "      <td>3.5</td>\n",
       "      <td>1.4</td>\n",
       "      <td>0.2</td>\n",
       "      <td>setosa</td>\n",
       "      <td>True</td>\n",
       "    </tr>\n",
       "    <tr>\n",
       "      <th>1</th>\n",
       "      <td>4.9</td>\n",
       "      <td>3.0</td>\n",
       "      <td>1.4</td>\n",
       "      <td>0.2</td>\n",
       "      <td>setosa</td>\n",
       "      <td>True</td>\n",
       "    </tr>\n",
       "    <tr>\n",
       "      <th>2</th>\n",
       "      <td>4.7</td>\n",
       "      <td>3.2</td>\n",
       "      <td>1.3</td>\n",
       "      <td>0.2</td>\n",
       "      <td>setosa</td>\n",
       "      <td>False</td>\n",
       "    </tr>\n",
       "    <tr>\n",
       "      <th>3</th>\n",
       "      <td>4.6</td>\n",
       "      <td>3.1</td>\n",
       "      <td>1.5</td>\n",
       "      <td>0.2</td>\n",
       "      <td>setosa</td>\n",
       "      <td>True</td>\n",
       "    </tr>\n",
       "    <tr>\n",
       "      <th>4</th>\n",
       "      <td>5.0</td>\n",
       "      <td>3.6</td>\n",
       "      <td>1.4</td>\n",
       "      <td>0.2</td>\n",
       "      <td>setosa</td>\n",
       "      <td>True</td>\n",
       "    </tr>\n",
       "  </tbody>\n",
       "</table>\n",
       "</div>"
      ],
      "text/plain": [
       "   Sépalo largo  Sépalo ancho  Pétalo largo  Pétalo ancho Especies  \\\n",
       "0           5.1           3.5           1.4           0.2   setosa   \n",
       "1           4.9           3.0           1.4           0.2   setosa   \n",
       "2           4.7           3.2           1.3           0.2   setosa   \n",
       "3           4.6           3.1           1.5           0.2   setosa   \n",
       "4           5.0           3.6           1.4           0.2   setosa   \n",
       "\n",
       "   De Entrenamiento  \n",
       "0              True  \n",
       "1              True  \n",
       "2             False  \n",
       "3              True  \n",
       "4              True  "
      ]
     },
     "execution_count": 4,
     "metadata": {},
     "output_type": "execute_result"
    }
   ],
   "source": [
    "#Se crear la columna De Entrenamiento (asigna 75% de los datos de manera aleatoria)\n",
    "tabla['De Entrenamiento'] = np.random.uniform(0, 1, len(tabla)) <= .75\n",
    "\n",
    "#Muestra las primeras 5 filas\n",
    "tabla.head()"
   ]
  },
  {
   "cell_type": "code",
   "execution_count": 5,
   "metadata": {},
   "outputs": [
    {
     "name": "stdout",
     "output_type": "stream",
     "text": [
      "('Numero de observaciones en los datos de entrenamiento:', 110)\n",
      "('Numero de observaciones en los datos de prueba:', 40)\n"
     ]
    }
   ],
   "source": [
    "#Se crean 2 tablas una para entrenamiento y otra para prueba\n",
    "entrenamiento = tabla[tabla['De Entrenamiento']==True]\n",
    "prueba =        tabla[tabla['De Entrenamiento']==False]\n",
    "\n",
    "print('Numero de observaciones en los datos de entrenamiento:', len(entrenamiento))\n",
    "print('Numero de observaciones en los datos de prueba:', len(prueba))"
   ]
  },
  {
   "cell_type": "code",
   "execution_count": 6,
   "metadata": {},
   "outputs": [
    {
     "data": {
      "text/plain": [
       "Index([u'Sépalo largo', u'Sépalo ancho', u'Pétalo largo', u'Pétalo ancho'], dtype='object')"
      ]
     },
     "execution_count": 6,
     "metadata": {},
     "output_type": "execute_result"
    }
   ],
   "source": [
    "#Asigna las caracteristicas (primeras 4 colum) a una variables\n",
    "caracteristicas = tabla.columns[:4]\n",
    "\n",
    "#Imprime la lista\n",
    "caracteristicas"
   ]
  },
  {
   "cell_type": "code",
   "execution_count": 7,
   "metadata": {},
   "outputs": [
    {
     "data": {
      "text/plain": [
       "array([0, 0, 0, 0, 0, 0, 0, 0, 0, 0, 0, 0, 0, 0, 0, 0, 0, 0, 0, 0, 0, 0,\n",
       "       0, 0, 0, 0, 0, 0, 0, 0, 0, 0, 0, 0, 0, 0, 0, 1, 1, 1, 1, 1, 1, 1,\n",
       "       1, 1, 1, 1, 1, 1, 1, 1, 1, 1, 1, 1, 1, 1, 1, 1, 1, 1, 1, 1, 1, 1,\n",
       "       1, 1, 1, 1, 1, 1, 1, 1, 2, 2, 2, 2, 2, 2, 2, 2, 2, 2, 2, 2, 2, 2,\n",
       "       2, 2, 2, 2, 2, 2, 2, 2, 2, 2, 2, 2, 2, 2, 2, 2, 2, 2, 2, 2, 2, 2])"
      ]
     },
     "execution_count": 7,
     "metadata": {},
     "output_type": "execute_result"
    }
   ],
   "source": [
    "#transforma Especies (setosa, versicolor, virginica) en (0s, 1s y 2s) respectivamente para un merjor manejo\n",
    "y = pd.factorize(entrenamiento['Especies'])[0]\n",
    "\n",
    "y"
   ]
  },
  {
   "cell_type": "code",
   "execution_count": 8,
   "metadata": {},
   "outputs": [
    {
     "data": {
      "text/plain": [
       "RandomForestClassifier(bootstrap=True, class_weight=None, criterion='gini',\n",
       "            max_depth=None, max_features='auto', max_leaf_nodes=None,\n",
       "            min_impurity_decrease=0.0, min_impurity_split=None,\n",
       "            min_samples_leaf=1, min_samples_split=2,\n",
       "            min_weight_fraction_leaf=0.0, n_estimators=10, n_jobs=2,\n",
       "            oob_score=False, random_state=0, verbose=0, warm_start=False)"
      ]
     },
     "execution_count": 8,
     "metadata": {},
     "output_type": "execute_result"
    }
   ],
   "source": [
    "#Crea el RandomForestClassifier con jobs=2 y random_state=0 por estandar\n",
    "clf = RandomForestClassifier(n_jobs=2, random_state=0)\n",
    "\n",
    "#Entrenamiento del clasificador\n",
    "clf.fit(entrenamiento[caracteristicas], y)"
   ]
  },
  {
   "cell_type": "code",
   "execution_count": 9,
   "metadata": {},
   "outputs": [
    {
     "data": {
      "text/plain": [
       "array([[1., 0., 0.],\n",
       "       [1., 0., 0.],\n",
       "       [1., 0., 0.],\n",
       "       [1., 0., 0.],\n",
       "       [1., 0., 0.],\n",
       "       [1., 0., 0.],\n",
       "       [1., 0., 0.],\n",
       "       [1., 0., 0.],\n",
       "       [1., 0., 0.],\n",
       "       [1., 0., 0.]])"
      ]
     },
     "execution_count": 9,
     "metadata": {},
     "output_type": "execute_result"
    }
   ],
   "source": [
    "#Una vez entrenado el clasificador\n",
    "#Se intenta predecir los valores con los datos de prueba (25%)\n",
    "result = clf.predict(prueba[caracteristicas])\n",
    "\n",
    "#Imprime las probabilidades de predicción de las primeras 10 observaciones\n",
    "clf.predict_proba(prueba[caracteristicas])[0:10]"
   ]
  },
  {
   "cell_type": "code",
   "execution_count": 10,
   "metadata": {},
   "outputs": [
    {
     "data": {
      "text/plain": [
       "array(['setosa', 'setosa', 'setosa', 'setosa', 'setosa', 'setosa',\n",
       "       'setosa', 'setosa', 'setosa', 'setosa', 'setosa', 'setosa',\n",
       "       'setosa', 'versicolor', 'versicolor', 'versicolor', 'versicolor',\n",
       "       'versicolor', 'versicolor', 'versicolor', 'versicolor',\n",
       "       'versicolor', 'versicolor', 'virginica', 'versicolor'],\n",
       "      dtype='|S10')"
      ]
     },
     "execution_count": 10,
     "metadata": {},
     "output_type": "execute_result"
    }
   ],
   "source": [
    "#transforma los 0s, 1s y 2s en su respectivo nombre setosa, versicolor, virginica\n",
    "preds = iris.target_names[result]\n",
    "\n",
    "#imprime las predicciones\n",
    "preds[0:25]"
   ]
  },
  {
   "cell_type": "code",
   "execution_count": 11,
   "metadata": {},
   "outputs": [
    {
     "data": {
      "text/plain": [
       "2     setosa\n",
       "8     setosa\n",
       "10    setosa\n",
       "14    setosa\n",
       "17    setosa\n",
       "Name: Especies, dtype: category\n",
       "Categories (3, object): [setosa, versicolor, virginica]"
      ]
     },
     "execution_count": 11,
     "metadata": {},
     "output_type": "execute_result"
    }
   ],
   "source": [
    "#Imprime el valor real de la especie para luego\n",
    "#verificar si la predicción fue buena\n",
    "real = prueba['Especies']\n",
    "\n",
    "#Muestra los primeros 5 valores\n",
    "real.head()"
   ]
  },
  {
   "cell_type": "code",
   "execution_count": 12,
   "metadata": {},
   "outputs": [
    {
     "data": {
      "text/html": [
       "<div>\n",
       "<style scoped>\n",
       "    .dataframe tbody tr th:only-of-type {\n",
       "        vertical-align: middle;\n",
       "    }\n",
       "\n",
       "    .dataframe tbody tr th {\n",
       "        vertical-align: top;\n",
       "    }\n",
       "\n",
       "    .dataframe thead th {\n",
       "        text-align: right;\n",
       "    }\n",
       "</style>\n",
       "<table border=\"1\" class=\"dataframe\">\n",
       "  <thead>\n",
       "    <tr style=\"text-align: right;\">\n",
       "      <th>Especies Predecidas</th>\n",
       "      <th>setosa</th>\n",
       "      <th>versicolor</th>\n",
       "      <th>virginica</th>\n",
       "    </tr>\n",
       "    <tr>\n",
       "      <th>Especies Reales</th>\n",
       "      <th></th>\n",
       "      <th></th>\n",
       "      <th></th>\n",
       "    </tr>\n",
       "  </thead>\n",
       "  <tbody>\n",
       "    <tr>\n",
       "      <th>setosa</th>\n",
       "      <td>13</td>\n",
       "      <td>0</td>\n",
       "      <td>0</td>\n",
       "    </tr>\n",
       "    <tr>\n",
       "      <th>versicolor</th>\n",
       "      <td>0</td>\n",
       "      <td>12</td>\n",
       "      <td>1</td>\n",
       "    </tr>\n",
       "    <tr>\n",
       "      <th>virginica</th>\n",
       "      <td>0</td>\n",
       "      <td>1</td>\n",
       "      <td>13</td>\n",
       "    </tr>\n",
       "  </tbody>\n",
       "</table>\n",
       "</div>"
      ],
      "text/plain": [
       "Especies Predecidas  setosa  versicolor  virginica\n",
       "Especies Reales                                   \n",
       "setosa                   13           0          0\n",
       "versicolor                0          12          1\n",
       "virginica                 0           1         13"
      ]
     },
     "execution_count": 12,
     "metadata": {},
     "output_type": "execute_result"
    }
   ],
   "source": [
    "#Crea e imprime una matriz entre la interseccion de real y predicciones\n",
    "final = pd.crosstab(prueba['Especies'], preds, rownames=['Especies Reales'], colnames=['Especies Predecidas'])\n",
    "\n",
    "final"
   ]
  },
  {
   "cell_type": "code",
   "execution_count": 13,
   "metadata": {},
   "outputs": [
    {
     "name": "stdout",
     "output_type": "stream",
     "text": [
      "('Total datos de prueba:', 40.0)\n",
      "('Numero de Exitos:', 38)\n"
     ]
    },
    {
     "data": {
      "text/plain": [
       "0.95"
      ]
     },
     "execution_count": 13,
     "metadata": {},
     "output_type": "execute_result"
    }
   ],
   "source": [
    "numExitos = final.loc['setosa','setosa'] + final.loc['versicolor','versicolor'] + final.loc['virginica','virginica']\n",
    "\n",
    "total = len(prueba.index)*1.0\n",
    "\n",
    "efectividad = numExitos/total\n",
    "\n",
    "print('Total datos de prueba:', total)\n",
    "print('Numero de Exitos:', numExitos)\n",
    "\n",
    "\n",
    "efectividad"
   ]
  },
  {
   "cell_type": "code",
   "execution_count": null,
   "metadata": {},
   "outputs": [],
   "source": []
  },
  {
   "cell_type": "code",
   "execution_count": null,
   "metadata": {},
   "outputs": [],
   "source": []
  }
 ],
 "metadata": {
  "kernelspec": {
   "display_name": "Python 2",
   "language": "python",
   "name": "python2"
  },
  "language_info": {
   "codemirror_mode": {
    "name": "ipython",
    "version": 2
   },
   "file_extension": ".py",
   "mimetype": "text/x-python",
   "name": "python",
   "nbconvert_exporter": "python",
   "pygments_lexer": "ipython2",
   "version": "2.7.15rc1"
  }
 },
 "nbformat": 4,
 "nbformat_minor": 2
}
