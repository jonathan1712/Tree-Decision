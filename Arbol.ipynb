{
 "cells": [
  {
   "cell_type": "markdown",
   "metadata": {},
   "source": [
    "ÁRBOLES DE DECISIÓN"
   ]
  },
  {
   "cell_type": "markdown",
   "metadata": {},
   "source": [
    "\n",
    "Un árbol de decisión es una herramienta, la cual permite tomar una decisión por medio de un único valor de salida, ante eso se le brinda un vector de valores como entrada.  Los valores de entrada y salida pueden ser discretos o continuos, pero, para efectos de la presente tarea consideraremos sólo valores de salida discretos (respuesta positiva o negativa). En otras palabras un árbol de decisión representa una función que toma como entrada un vector de valores de atributo y devuelve una decisión, un único valor de salida.\n"
   ]
  },
  {
   "cell_type": "markdown",
   "metadata": {},
   "source": [
    "CARACTERÍSTICAS DE LOS ÁRBOLES DE DECISIÓN"
   ]
  },
  {
   "cell_type": "markdown",
   "metadata": {},
   "source": [
    "- Plantea el problema desde distintas perspectivas.\n",
    "- Analiza de manera completa todas las posibles soluciones. \n",
    "- Ayuda a realizar las mejores decisiones con base a la información existente y a las mejores suposiciones.\n",
    "- Su estructura permite analizar las alternativas, los eventos, las probabilidades y los resultados. "
   ]
  },
  {
   "cell_type": "markdown",
   "metadata": {},
   "source": [
    "ESTRUCTURA DE LOS ÁRBOLES DE DECISIÓN"
   ]
  },
  {
   "cell_type": "markdown",
   "metadata": {},
   "source": [
    "- Nodo de decisión: está asociado a uno de los atributos y tiene dos o más ramas que salen de él, cada una de ellas representa los posibles valores que puede tomar el atributo asociado. De alguna forma, un nodo de decisión es como una pregunta que se le hace al ejemplo analizado, y dependiendo de la respuesta que dé, el flujo tomará una de las ramas salientes.\n",
    "- Nodo respuesta: está asociado a la clasificación que se quiere proporcionar, y nos devuelve la decisión del árbol con respecto al ejemplo de entrada.\n"
   ]
  },
  {
   "cell_type": "markdown",
   "metadata": {},
   "source": [
    "DESCRIPCIÓN DEL ALGORITMO"
   ]
  },
  {
   "cell_type": "markdown",
   "metadata": {},
   "source": [
    "Lo primero antes de hablar del algoritmo es tener claro las fórmulas necesarias para el mismo: "
   ]
  },
  {
   "cell_type": "markdown",
   "metadata": {},
   "source": [
    "ENTROPÍA\n",
    "\n",
    "Es la medida de la incertidumbre de una variable aleatoria, y se representa por:"
   ]
  },
  {
   "cell_type": "markdown",
   "metadata": {},
   "source": [
    "$$H(V)=-\\sum_{k}P(vk)\\log_{2}{P(vk)}$$\n",
    "\n",
    "Donde vk representa todas las diferentes posibles predicciones."
   ]
  },
  {
   "cell_type": "markdown",
   "metadata": {},
   "source": [
    "GANANCIA DE INFORMACIÓN"
   ]
  },
  {
   "cell_type": "markdown",
   "metadata": {},
   "source": [
    "Es una reducción en la entropía y se cálcula de la siguiente manera:"
   ]
  },
  {
   "cell_type": "markdown",
   "metadata": {},
   "source": [
    "$$G(X)=B(\\frac{p}{p+n})-Residuo(X)$$\n",
    "\n",
    "Donde p representa los casos positivos y n los negativos. Además, Residuo(X) está dado por la fórmula:\n",
    "\n",
    "$$Residuo(X)=\\sum_{k}^d \\frac{pk+nk}{p+n} B(\\frac{pk}{pk+nk})$$"
   ]
  },
  {
   "cell_type": "markdown",
   "metadata": {},
   "source": [
    "Donde k representa cada atributo, pk representa los casos positivos para ese atributo, nk los casos negativos para ese atributo, p y n son los positivos y negativos totales del conjunto de datos y, B representa la entropía."
   ]
  },
  {
   "cell_type": "markdown",
   "metadata": {},
   "source": [
    "EXPLICACIÓN\n",
    "\n",
    "El primer paso para crear un árbol de decisión es obtener la raíz, para lo cual, se calcula la entropía, es decir, se obtienen todas las posibles predicciones y sus probabilidades según el conjunto de datos de entrenamiento, y se aplica la fórmula de la entropía. Por ejemplo, si se tienen 3 predicciones diferentes, como X,F y Z, con probabilidades a,b y c respectivamente, el desarrollo de la fórmula sería:\n",
    "\n",
    "$$-P(X)\\log_{2}{(P(X))}  \\ -P(F)\\log_{2}{(P(F))} \\ -P(Z)\\log_{2}{(P(Z))} \\ = \\ -a\\log_{2}{(a)} \\ -b\\log_{2}{(b)} \\ -c\\log_{2}{(c)}$$\n",
    "\n",
    "Una vez calcula la entropía se procede a tomar el conjunto de datos de entrenamiento y para cada atributo se cálcula su ganancia, el atributo que ofrezca mayor ganancia será el elegido como la raíz. Supongamos que X obtiene la mayor ganancia de entre los tres atributos antes mencionados, por lo tanto X es el atributo raíz.\n",
    "\n",
    "Lo siguiente es determinar las ramas de la raíz, para ello se divide el conjunto de datos con base en el valor de predicción del atributo del seleccionado como nodo raíz, y se repite recursivamente con las distintas ramas todo el proceso desde el inicio de la explicación.\n",
    "\n",
    "Aspectos a tomar en cuenta:\n",
    "\n",
    "- Si en el proceso, la entropía es 0, quiere decir que estamos ante la presencia de una hoja, lo cual implica una predicción.\n",
    "- El proceso recursivo se aplica con todos los posibles valores del atributo, de esta forma se generan las ramas.\n",
    "- Se debe de tener en cuenta que es posible que se descarten algunos atributos, esto quiere decir que en el árbol de decisión no necesariamente deben aparecer todos los atributos.\n"
   ]
  },
  {
   "cell_type": "markdown",
   "metadata": {},
   "source": [
    "IMPORTS"
   ]
  },
  {
   "cell_type": "code",
   "execution_count": 58,
   "metadata": {},
   "outputs": [],
   "source": [
    "### imports necesarios\n",
    "#from __future__ import print_function\n",
    "from math import *"
   ]
  },
  {
   "cell_type": "markdown",
   "metadata": {},
   "source": [
    "NOTA: USUARIOS DE WINDOWS"
   ]
  },
  {
   "cell_type": "code",
   "execution_count": 76,
   "metadata": {},
   "outputs": [],
   "source": [
    "### si no se está ejecutando en windows las siguientes lineas deben de estar comentadas\n",
    "#import os\n",
    "#os.environ[\"PATH\"] += os.pathsep + 'C:/Program Files (x86)/Graphviz2.38/bin/'"
   ]
  },
  {
   "cell_type": "markdown",
   "metadata": {},
   "source": [
    "CLASES"
   ]
  },
  {
   "cell_type": "code",
   "execution_count": 60,
   "metadata": {},
   "outputs": [],
   "source": [
    "### Clases necesarias\n",
    "class Condicion:\n",
    "    def __init__(self, columna, valor):\n",
    "        self.columna = columna\n",
    "        self.valor = valor\n",
    "\n",
    "    def match(self, fila):\n",
    "        resultado = fila[self.columna]\n",
    "        if es_numero(resultado):\n",
    "            return resultado >= self.valor\n",
    "        else:\n",
    "            return resultado == self.valor\n",
    "\n",
    "    def __repr__(self):\n",
    "        condicion = \"==\"\n",
    "        if es_numero(self.valor):\n",
    "            condicion = \">=\"\n",
    "        return \"%s %s %s?\" % (\n",
    "            header[self.columna], condicion, str(self.valor))\n",
    "\n",
    "class Hoja:\n",
    "    def __init__(self, filas):\n",
    "        self.predicciones = numeros_resultados(filas)\n",
    "\n",
    "class Nodo_Decision:\n",
    "    def __init__(self, condicion, true_rama, false_rama):\n",
    "        self.condicion = condicion\n",
    "        self.true_rama = true_rama\n",
    "        self.false_rama = false_rama\n"
   ]
  },
  {
   "cell_type": "markdown",
   "metadata": {},
   "source": [
    "CONJUNTO DE ENTRENAMIENTO"
   ]
  },
  {
   "cell_type": "code",
   "execution_count": 61,
   "metadata": {},
   "outputs": [],
   "source": [
    "### conjunto de entrenamiento\n",
    "from graphviz import Digraph\n",
    "\n",
    "\n",
    "header =[\"Carro\",   \"Calor\",    \"Dia\",      \"Distancia\",    \"Comida\",       \"Ir al supermercado\"]\n",
    "training_data = [\n",
    "        ['True',    'True',     'False',        5,          \"False\",        'True'],\n",
    "        ['True',    'False',    'True',         4,          \"False\",        'True'],\n",
    "        ['False',   'False',    'True',         3,          \"True\",         'False'],\n",
    "        ['True',    'True',     'False',        4,          \"True\",         'False'],\n",
    "        ['True',    'True',     'False',        4,          \"False\",        'True'],\n",
    "        ['True',    'False',    'False',        5,          \"False\",        'True'],\n",
    "        ['False',   'False',    'True',         3,          \"True\",         'False'],\n",
    "        ['False',   'False',    'True',         3,          \"False\",        'True'],\n",
    "        ['False',   'False',    'False',        5,          \"True\",         'False'],\n",
    "        ['True',    'False',    'False',        4,          \"True\",         'True']]"
   ]
  },
  {
   "cell_type": "markdown",
   "metadata": {},
   "source": [
    "PRINCIPAL"
   ]
  },
  {
   "cell_type": "code",
   "execution_count": 62,
   "metadata": {},
   "outputs": [
    {
     "name": "stdout",
     "output_type": "stream",
     "text": [
      "---------------------- Cálculos ---------------------- \n",
      "\n",
      "Entropía:  0.9709505944546686\n",
      "Ganancias de los atributos: \n",
      "  -  Carro 0.256425891682003\n",
      "  -  Calor 0\n",
      "  -  Dia 0\n",
      "  -  Distancia 0\n",
      "  -  Comida 0.6099865470109874\n",
      "Atributo seleccionado:  Comida \n",
      "\n",
      "Entropía:  0.0\n",
      "Ganancias de los atributos: \n",
      "  -  Carro 0.0\n",
      "  -  Calor 0.0\n",
      "  -  Dia 0.0\n",
      "  -  Distancia 0.0\n",
      "  -  Comida 0\n",
      "!No hay atributo seleccionado, es una predicción: una hoja¡ \n",
      "\n",
      "Entropía:  0.7219280948873623\n",
      "Ganancias de los atributos: \n",
      "  -  Carro 0.3219280948873623\n",
      "  -  Calor 0\n",
      "  -  Dia 0\n",
      "  -  Distancia 0\n",
      "  -  Comida 0\n",
      "Atributo seleccionado:  Carro \n",
      "\n",
      "Entropía:  0.0\n",
      "Ganancias de los atributos: \n",
      "  -  Carro 0\n",
      "  -  Calor 0\n",
      "  -  Dia 0.0\n",
      "  -  Distancia 0.0\n",
      "  -  Comida 0\n",
      "!No hay atributo seleccionado, es una predicción: una hoja¡ \n",
      "\n",
      "Entropía:  1.0\n",
      "Ganancias de los atributos: \n",
      "  -  Carro 0\n",
      "  -  Calor 1.0\n",
      "  -  Dia 0\n",
      "  -  Distancia 0\n",
      "  -  Comida 0\n",
      "Atributo seleccionado:  Calor \n",
      "\n",
      "Entropía:  0.0\n",
      "Ganancias de los atributos: \n",
      "  -  Carro 0\n",
      "  -  Calor 0\n",
      "  -  Dia 0\n",
      "  -  Distancia 0\n",
      "  -  Comida 0\n",
      "!No hay atributo seleccionado, es una predicción: una hoja¡ \n",
      "\n",
      "Entropía:  0.0\n",
      "Ganancias de los atributos: \n",
      "  -  Carro 0\n",
      "  -  Calor 0\n",
      "  -  Dia 0\n",
      "  -  Distancia 0\n",
      "  -  Comida 0\n",
      "!No hay atributo seleccionado, es una predicción: una hoja¡ \n",
      "\n"
     ]
    },
    {
     "data": {
      "image/svg+xml": [
       "<?xml version=\"1.0\" encoding=\"UTF-8\" standalone=\"no\"?>\r\n",
       "<!DOCTYPE svg PUBLIC \"-//W3C//DTD SVG 1.1//EN\"\r\n",
       " \"http://www.w3.org/Graphics/SVG/1.1/DTD/svg11.dtd\">\r\n",
       "<!-- Generated by graphviz version 2.38.0 (20140413.2041)\r\n",
       " -->\r\n",
       "<!-- Title: G Pages: 1 -->\r\n",
       "<svg width=\"364pt\" height=\"305pt\"\r\n",
       " viewBox=\"0.00 0.00 363.57 305.00\" xmlns=\"http://www.w3.org/2000/svg\" xmlns:xlink=\"http://www.w3.org/1999/xlink\">\r\n",
       "<g id=\"graph0\" class=\"graph\" transform=\"scale(1 1) rotate(0) translate(4 301)\">\r\n",
       "<title>G</title>\r\n",
       "<polygon fill=\"white\" stroke=\"none\" points=\"-4,4 -4,-301 359.574,-301 359.574,4 -4,4\"/>\r\n",
       "<!-- Comida == False? -->\r\n",
       "<g id=\"node1\" class=\"node\"><title>Comida == False?</title>\r\n",
       "<polygon fill=\"#b3ee3a\" stroke=\"#b3ee3a\" points=\"104.357,-261.049 110.21,-261.148 116.002,-261.295 121.71,-261.491 127.311,-261.735 132.783,-262.027 138.102,-262.364 143.25,-262.748 148.206,-263.176 152.953,-263.647 157.472,-264.161 161.748,-264.715 165.767,-265.308 169.516,-265.939 172.985,-266.605 176.163,-267.306 179.042,-268.039 181.617,-268.801 183.883,-269.592 185.838,-270.408 187.479,-271.248 188.807,-272.109 189.824,-272.989 190.533,-273.886 190.94,-274.797 191.049,-275.719 190.869,-276.65 190.406,-277.587 189.672,-278.529 188.675,-279.471 187.427,-280.413 185.94,-281.35 184.225,-282.281 182.294,-283.203 180.162,-284.114 177.84,-285.011 175.341,-285.891 172.679,-286.752 169.867,-287.592 166.916,-288.408 163.839,-289.199 160.648,-289.961 157.354,-290.694 153.968,-291.395 150.499,-292.061 146.959,-292.692 143.354,-293.285 139.694,-293.839 135.985,-294.353 132.236,-294.824 128.451,-295.252 124.637,-295.636 120.798,-295.973 116.94,-296.265 113.065,-296.509 109.178,-296.705 105.281,-296.852 101.378,-296.951 97.4706,-297 93.5622,-297 89.6551,-296.951 85.7518,-296.852 81.855,-296.705 77.9676,-296.509 74.0929,-296.265 70.2342,-295.973 66.3957,-295.636 62.5816,-295.252 58.797,-294.824 55.0474,-294.353 51.3391,-293.839 47.6789,-293.285 44.0742,-292.692 40.5332,-292.061 37.0649,-291.395 33.6786,-290.694 30.3846,-289.961 27.1935,-289.199 24.1167,-288.408 21.1659,-287.592 18.3532,-286.752 15.6913,-285.891 13.1929,-285.011 10.8709,-284.114 8.73826,-283.203 6.80799,-282.281 5.09283,-281.35 3.60527,-280.413 2.35739,-279.471 1.36076,-278.529 0.626306,-277.587 0.164171,-276.65 -0.0163656,-275.719 0.0929785,-274.797 0.499383,-273.886 1.20883,-272.989 2.22598,-272.109 3.55416,-271.248 5.19518,-270.408 7.14937,-269.592 9.41546,-268.801 11.9906,-268.039 14.8702,-267.306 18.0481,-266.605 21.5165,-265.939 25.2658,-265.308 29.2849,-264.715 33.5611,-264.161 38.0801,-263.647 42.8263,-263.176 47.7825,-262.748 52.9303,-262.364 58.2502,-262.027 63.7214,-261.735 69.3224,-261.491 75.0307,-261.295 80.8231,-261.148 86.6761,-261.049 92.5655,-261 98.4672,-261 104.357,-261.049\"/>\r\n",
       "<text text-anchor=\"middle\" x=\"95.5164\" y=\"-275.3\" font-family=\"Century Gothic\" font-size=\"14.00\" fill=\"darkgreen\">Comida == False?</text>\r\n",
       "</g>\r\n",
       "<!-- True Comida == False? -->\r\n",
       "<g id=\"node2\" class=\"node\"><title>True Comida == False?</title>\r\n",
       "<text text-anchor=\"middle\" x=\"55.5164\" y=\"-188.3\" font-family=\"Century Gothic\" font-size=\"14.00\" fill=\"darkgreen\">True</text>\r\n",
       "</g>\r\n",
       "<!-- Comida == False?&#45;&gt;True Comida == False? -->\r\n",
       "<g id=\"edge1\" class=\"edge\"><title>Comida == False?&#45;&gt;True Comida == False?</title>\r\n",
       "<path fill=\"none\" stroke=\"#b3ee3a\" d=\"M87.4218,-260.799C85.3276,-256.349 82.9597,-251.317 80.4833,-246.055\"/>\r\n",
       "<path fill=\"none\" stroke=\"#66cd00\" d=\"M80.4833,-246.055C78.8323,-242.546 77.1332,-238.936 75.4348,-235.327\"/>\r\n",
       "<path fill=\"none\" stroke=\"darkgreen\" d=\"M75.4348,-235.327C72.8873,-229.913 70.3415,-224.503 67.9629,-219.449\"/>\r\n",
       "<polygon fill=\"darkgreen\" stroke=\"darkgreen\" points=\"71.0238,-217.733 63.5989,-210.175 64.6901,-220.714 71.0238,-217.733\"/>\r\n",
       "<text text-anchor=\"middle\" x=\"83.5164\" y=\"-231.8\" font-family=\"Century Gothic\" font-size=\"14.00\" fill=\"darkgreen\">Si</text>\r\n",
       "</g>\r\n",
       "<!-- Carro == False? -->\r\n",
       "<g id=\"node3\" class=\"node\"><title>Carro == False?</title>\r\n",
       "<polygon fill=\"#b3ee3a\" stroke=\"#b3ee3a\" points=\"192.325,-174.049 197.495,-174.148 202.611,-174.295 207.654,-174.491 212.601,-174.735 217.434,-175.027 222.133,-175.364 226.68,-175.748 231.057,-176.176 235.25,-176.647 239.241,-177.161 243.019,-177.715 246.569,-178.308 249.88,-178.939 252.944,-179.605 255.751,-180.306 258.295,-181.039 260.569,-181.801 262.571,-182.592 264.297,-183.408 265.747,-184.248 266.92,-185.109 267.818,-185.989 268.445,-186.886 268.804,-187.797 268.9,-188.719 268.741,-189.65 268.333,-190.587 267.684,-191.529 266.804,-192.471 265.701,-193.413 264.387,-194.35 262.872,-195.281 261.167,-196.203 259.284,-197.114 257.233,-198.011 255.026,-198.891 252.675,-199.752 250.19,-200.592 247.584,-201.408 244.866,-202.199 242.047,-202.961 239.138,-203.694 236.147,-204.395 233.083,-205.061 229.955,-205.692 226.771,-206.285 223.538,-206.839 220.263,-207.353 216.951,-207.824 213.608,-208.252 210.239,-208.636 206.848,-208.973 203.44,-209.265 200.017,-209.509 196.583,-209.705 193.141,-209.852 189.694,-209.951 186.242,-210 182.79,-210 179.339,-209.951 175.891,-209.852 172.449,-209.705 169.016,-209.509 165.593,-209.265 162.185,-208.973 158.794,-208.636 155.425,-208.252 152.082,-207.824 148.77,-207.353 145.495,-206.839 142.262,-206.285 139.077,-205.692 135.95,-205.061 132.886,-204.395 129.895,-203.694 126.985,-202.961 124.167,-202.199 121.449,-201.408 118.843,-200.592 116.358,-199.752 114.007,-198.891 111.8,-198.011 109.749,-197.114 107.865,-196.203 106.16,-195.281 104.645,-194.35 103.331,-193.413 102.229,-192.471 101.349,-191.529 100.7,-190.587 100.292,-189.65 100.132,-188.719 100.229,-187.797 100.588,-186.886 101.215,-185.989 102.113,-185.109 103.286,-184.248 104.736,-183.408 106.462,-182.592 108.463,-181.801 110.738,-181.039 113.282,-180.306 116.089,-179.605 119.152,-178.939 122.464,-178.308 126.014,-177.715 129.791,-177.161 133.783,-176.647 137.975,-176.176 142.353,-175.748 146.9,-175.364 151.599,-175.027 156.432,-174.735 161.379,-174.491 166.421,-174.295 171.538,-174.148 176.708,-174.049 181.91,-174 187.123,-174 192.325,-174.049\"/>\r\n",
       "<text text-anchor=\"middle\" x=\"184.516\" y=\"-188.3\" font-family=\"Century Gothic\" font-size=\"14.00\" fill=\"darkgreen\">Carro == False?</text>\r\n",
       "</g>\r\n",
       "<!-- Comida == False?&#45;&gt;Carro == False? -->\r\n",
       "<g id=\"edge2\" class=\"edge\"><title>Comida == False?&#45;&gt;Carro == False?</title>\r\n",
       "<path fill=\"none\" stroke=\"#b3ee3a\" d=\"M113.1,-261.207C123.13,-251.628 136.082,-239.258 148.196,-227.688\"/>\r\n",
       "<path fill=\"none\" stroke=\"#66cd00\" d=\"M148.196,-227.688C152.234,-223.831 156.179,-220.063 159.892,-216.518\"/>\r\n",
       "<polygon fill=\"#66cd00\" stroke=\"#66cd00\" points=\"162.458,-218.907 167.272,-209.469 157.623,-213.845 162.458,-218.907\"/>\r\n",
       "<text text-anchor=\"middle\" x=\"154.516\" y=\"-231.8\" font-family=\"Century Gothic\" font-size=\"14.00\" fill=\"darkgreen\">No</text>\r\n",
       "</g>\r\n",
       "<!-- False Carro == False? -->\r\n",
       "<g id=\"node4\" class=\"node\"><title>False Carro == False?</title>\r\n",
       "<text text-anchor=\"middle\" x=\"144.516\" y=\"-101.3\" font-family=\"Century Gothic\" font-size=\"14.00\" fill=\"darkgreen\">False</text>\r\n",
       "</g>\r\n",
       "<!-- Carro == False?&#45;&gt;False Carro == False? -->\r\n",
       "<g id=\"edge3\" class=\"edge\"><title>Carro == False?&#45;&gt;False Carro == False?</title>\r\n",
       "<path fill=\"none\" stroke=\"#b3ee3a\" d=\"M176.422,-173.799C174.328,-169.349 171.96,-164.317 169.483,-159.055\"/>\r\n",
       "<path fill=\"none\" stroke=\"#66cd00\" d=\"M169.483,-159.055C167.832,-155.546 166.133,-151.936 164.435,-148.327\"/>\r\n",
       "<path fill=\"none\" stroke=\"darkgreen\" d=\"M164.435,-148.327C161.887,-142.913 159.342,-137.503 156.963,-132.449\"/>\r\n",
       "<polygon fill=\"darkgreen\" stroke=\"darkgreen\" points=\"160.024,-130.733 152.599,-123.175 153.69,-133.714 160.024,-130.733\"/>\r\n",
       "<text text-anchor=\"middle\" x=\"171.516\" y=\"-144.8\" font-family=\"Century Gothic\" font-size=\"14.00\" fill=\"darkgreen\">Si</text>\r\n",
       "</g>\r\n",
       "<!-- Calor == False? -->\r\n",
       "<g id=\"node5\" class=\"node\"><title>Calor == False?</title>\r\n",
       "<polygon fill=\"#b3ee3a\" stroke=\"#b3ee3a\" points=\"280.208,-87.0493 285.3,-87.1479 290.339,-87.2953 295.306,-87.4913 300.179,-87.7353 304.939,-88.0266 309.567,-88.3645 314.046,-88.7479 318.358,-89.1759 322.487,-89.6472 326.419,-90.1606 330.139,-90.7147 333.636,-91.308 336.898,-91.9388 339.915,-92.6054 342.68,-93.3059 345.186,-94.0385 347.426,-94.8012 349.397,-95.5918 351.098,-96.4082 352.525,-97.2481 353.681,-98.1093 354.566,-98.9894 355.183,-99.886 355.537,-100.797 355.632,-101.719 355.475,-102.65 355.073,-103.587 354.434,-104.529 353.567,-105.471 352.481,-106.413 351.187,-107.35 349.694,-108.281 348.015,-109.203 346.16,-110.114 344.139,-111.011 341.966,-111.891 339.65,-112.752 337.203,-113.592 334.636,-114.408 331.959,-115.199 329.182,-115.961 326.316,-116.694 323.37,-117.395 320.353,-118.061 317.272,-118.692 314.136,-119.285 310.951,-119.839 307.725,-120.353 304.463,-120.824 301.17,-121.252 297.852,-121.636 294.512,-121.973 291.155,-122.265 287.784,-122.509 284.402,-122.705 281.012,-122.852 277.616,-122.951 274.217,-123 270.816,-123 267.417,-122.951 264.021,-122.852 260.631,-122.705 257.249,-122.509 253.877,-122.265 250.52,-121.973 247.181,-121.636 243.862,-121.252 240.57,-120.824 237.308,-120.353 234.081,-119.839 230.897,-119.285 227.761,-118.692 224.68,-118.061 221.662,-117.395 218.716,-116.694 215.85,-115.961 213.074,-115.199 210.397,-114.408 207.83,-113.592 205.383,-112.752 203.067,-111.891 200.893,-111.011 198.873,-110.114 197.018,-109.203 195.338,-108.281 193.846,-107.35 192.552,-106.413 191.466,-105.471 190.599,-104.529 189.96,-103.587 189.558,-102.65 189.401,-101.719 189.496,-100.797 189.85,-99.886 190.467,-98.9894 191.352,-98.1093 192.507,-97.2481 193.935,-96.4082 195.635,-95.5918 197.607,-94.8012 199.847,-94.0385 202.353,-93.3059 205.117,-92.6054 208.135,-91.9388 211.397,-91.308 214.894,-90.7147 218.614,-90.1606 222.546,-89.6472 226.675,-89.1759 230.987,-88.7479 235.466,-88.3645 240.094,-88.0266 244.854,-87.7353 249.727,-87.4913 254.693,-87.2953 259.733,-87.1479 264.825,-87.0493 269.949,-87 275.084,-87 280.208,-87.0493\"/>\r\n",
       "<text text-anchor=\"middle\" x=\"272.516\" y=\"-101.3\" font-family=\"Century Gothic\" font-size=\"14.00\" fill=\"darkgreen\">Calor == False?</text>\r\n",
       "</g>\r\n",
       "<!-- Carro == False?&#45;&gt;Calor == False? -->\r\n",
       "<g id=\"edge4\" class=\"edge\"><title>Carro == False?&#45;&gt;Calor == False?</title>\r\n",
       "<path fill=\"none\" stroke=\"#b3ee3a\" d=\"M201.902,-174.207C211.819,-164.628 224.626,-152.258 236.604,-140.688\"/>\r\n",
       "<path fill=\"none\" stroke=\"#66cd00\" d=\"M236.604,-140.688C240.597,-136.831 244.498,-133.063 248.169,-129.518\"/>\r\n",
       "<polygon fill=\"#66cd00\" stroke=\"#66cd00\" points=\"250.705,-131.934 255.466,-122.469 245.842,-126.899 250.705,-131.934\"/>\r\n",
       "<text text-anchor=\"middle\" x=\"243.516\" y=\"-144.8\" font-family=\"Century Gothic\" font-size=\"14.00\" fill=\"darkgreen\">No</text>\r\n",
       "</g>\r\n",
       "<!-- True Calor == False? -->\r\n",
       "<g id=\"node6\" class=\"node\"><title>True Calor == False?</title>\r\n",
       "<text text-anchor=\"middle\" x=\"236.516\" y=\"-14.3\" font-family=\"Century Gothic\" font-size=\"14.00\" fill=\"darkgreen\">True</text>\r\n",
       "</g>\r\n",
       "<!-- Calor == False?&#45;&gt;True Calor == False? -->\r\n",
       "<g id=\"edge5\" class=\"edge\"><title>Calor == False?&#45;&gt;True Calor == False?</title>\r\n",
       "<path fill=\"none\" stroke=\"#b3ee3a\" d=\"M265.231,-86.799C263.346,-82.3489 261.215,-77.317 258.987,-72.0547\"/>\r\n",
       "<path fill=\"none\" stroke=\"#66cd00\" d=\"M258.987,-72.0547C257.501,-68.5464 255.972,-64.9358 254.443,-61.3268\"/>\r\n",
       "<path fill=\"none\" stroke=\"darkgreen\" d=\"M254.443,-61.3268C252.15,-55.9132 249.859,-50.5035 247.718,-45.4488\"/>\r\n",
       "<polygon fill=\"darkgreen\" stroke=\"darkgreen\" points=\"250.914,-44.0186 243.791,-36.1754 244.468,-46.7486 250.914,-44.0186\"/>\r\n",
       "<text text-anchor=\"middle\" x=\"261.516\" y=\"-57.8\" font-family=\"Century Gothic\" font-size=\"14.00\" fill=\"darkgreen\">Si</text>\r\n",
       "</g>\r\n",
       "<!-- False Calor == False? -->\r\n",
       "<g id=\"node7\" class=\"node\"><title>False Calor == False?</title>\r\n",
       "<text text-anchor=\"middle\" x=\"308.516\" y=\"-14.3\" font-family=\"Century Gothic\" font-size=\"14.00\" fill=\"darkgreen\">False</text>\r\n",
       "</g>\r\n",
       "<!-- Calor == False?&#45;&gt;False Calor == False? -->\r\n",
       "<g id=\"edge6\" class=\"edge\"><title>Calor == False?&#45;&gt;False Calor == False?</title>\r\n",
       "<path fill=\"none\" stroke=\"#b3ee3a\" d=\"M279.802,-86.799C281.686,-82.3489 283.817,-77.317 286.046,-72.0547\"/>\r\n",
       "<path fill=\"none\" stroke=\"#66cd00\" d=\"M286.046,-72.0547C287.532,-68.5464 289.061,-64.9358 290.59,-61.3268\"/>\r\n",
       "<path fill=\"none\" stroke=\"darkgreen\" d=\"M290.59,-61.3268C292.883,-55.9132 295.174,-50.5035 297.315,-45.4488\"/>\r\n",
       "<polygon fill=\"darkgreen\" stroke=\"darkgreen\" points=\"300.565,-46.7486 301.242,-36.1754 294.119,-44.0186 300.565,-46.7486\"/>\r\n",
       "<text text-anchor=\"middle\" x=\"302.516\" y=\"-57.8\" font-family=\"Century Gothic\" font-size=\"14.00\" fill=\"darkgreen\">No</text>\r\n",
       "</g>\r\n",
       "</g>\r\n",
       "</svg>\r\n"
      ],
      "text/plain": [
       "<graphviz.dot.Digraph at 0x1648350>"
      ]
     },
     "execution_count": 62,
     "metadata": {},
     "output_type": "execute_result"
    }
   ],
   "source": [
    "\n",
    "\n",
    "#Función que saca los valores diferentes de una columna en específico y los coloca en la matriz filas.\n",
    "def valores_columna(filas, columna):\n",
    "    return set([fila[columna] for fila in filas])\n",
    "\n",
    "#Función que saca el conteo de todos los posibles resultados (respecto a la última columna)\n",
    "def numeros_resultados(filas):\n",
    "    conteo = {}  # resultado.\n",
    "    for fila in filas:\n",
    "        # in our dataset format, the label is always the last column\n",
    "        label = fila[-1]\n",
    "        if label not in conteo:\n",
    "            conteo[label] = 0\n",
    "        conteo[label] += 1\n",
    "    return conteo\n",
    "\n",
    "#Función que dice si un valor es número o no\n",
    "def es_numero(valor):\n",
    "    return isinstance(valor, int) or isinstance(valor, float)\n",
    "\n",
    "#Función que divide datos, de acuerdo a si cumplen o no una condición.\n",
    "def division_datos(filas, condicion):\n",
    "    true_filas, false_filas = [], []\n",
    "    for fila in filas:\n",
    "        if condicion.match(fila):\n",
    "            true_filas.append(fila)\n",
    "        else:\n",
    "            false_filas.append(fila)\n",
    "    return true_filas, false_filas\n",
    "\n",
    "def entropia(filas):\n",
    "    counts = numeros_resultados(filas)\n",
    "    entropia = 0\n",
    "    for lbl in counts:\n",
    "        prob_of_lbl = counts[lbl] / float(len(filas))\n",
    "        entropia = entropia + (-1* (prob_of_lbl)* log(prob_of_lbl,2))\n",
    "    return entropia\n",
    "\n",
    "def ganancia_informacion(left, right, current_uncertainty):\n",
    "    p = float(len(left)) / (len(left) + len(right))\n",
    "    return current_uncertainty - p * entropia(left) - (1 - p) * entropia(right)\n",
    "\n",
    "def mejor_atributo(filas):\n",
    "    ganancia_maxima = 0  # keep track of the best information ganancia\n",
    "    condicion_maxima = None  # keep train of the feature / value that produced it\n",
    "    current_uncertainty = entropia(filas)\n",
    "    print(\"Entropía: \", current_uncertainty)\n",
    "    n_features = len(filas[0]) - 1  # number of columns\n",
    "    columna_seleccionada = 0\n",
    "    \n",
    "    print (\"Ganancias de los atributos: \")\n",
    "    total = 0\n",
    "    for col in range(n_features):  # for each feature\n",
    "        ganancia_por_columna = 0\n",
    "        valores = set([fila[col] for fila in filas])  # unique valores in the column\n",
    "        for val in valores:  # for each value\n",
    "            condicion = Condicion(col, val)\n",
    "            true_filas, false_filas = division_datos(filas, condicion)\n",
    "            if len(true_filas) == 0 or len(false_filas) == 0:\n",
    "                continue\n",
    "            # Calculate the information ganancia from this split\n",
    "            ganancia = ganancia_informacion(true_filas, false_filas, current_uncertainty)\n",
    "            #print(ganancia)\n",
    "            total = total + ganancia\n",
    "            if ganancia >= ganancia_maxima:\n",
    "                ganancia_por_columna = ganancia\n",
    "                ganancia_maxima, condicion_maxima = ganancia, condicion\n",
    "                columna_seleccionada = col\n",
    "                \n",
    "        print (\"  - \", header[col], ganancia_por_columna)\n",
    "    if (total == 0):\n",
    "        print(\"!No hay atributo seleccionado, es una predicción: una hoja¡\", '\\n')\n",
    "    else:\n",
    "        print(\"Atributo seleccionado: \", header[columna_seleccionada],'\\n')\n",
    "    return ganancia_maxima, condicion_maxima\n",
    "\n",
    "def construir_arbol(filas):\n",
    "    ganancia, condicion = mejor_atributo(filas)\n",
    "    if ganancia == 0:\n",
    "        return Hoja(filas)\n",
    "    true_filas, false_filas = division_datos(filas, condicion)\n",
    "\n",
    "    #Construcción de las ramas.\n",
    "    true_rama = construir_arbol(true_filas)\n",
    "    false_rama = construir_arbol(false_filas)\n",
    "    \n",
    "    return Nodo_Decision(condicion, true_rama, false_rama)\n",
    "\n",
    "def visualizar_arbol(node, origen=\"0\", condicionA = \"\"):\n",
    "    if isinstance(node, Hoja):\n",
    "        #Hoja\n",
    "        destino =  list(node.predicciones.keys())[0] +\" \" + origen\n",
    "        arbol.node(origen, label=origen, shape=\"egg\", style=\"filled\",color=\"olivedrab2\",fontname=\"Century Gothic\", fillcolor=\"olivedrab2\", fontcolor=\"darkgreen\")\n",
    "        arbol.node(destino, label=list(node.predicciones.keys())[0], shape=\"plaintext\",fontname=\"Century Gothic\", fontcolor=\"darkgreen\")\n",
    "        arbol.edge(origen, destino,label=condicionA,fontname=\"Century Gothic\",color=\"olivedrab2:chartreuse3;0.25:darkgreen\", fontcolor=\"darkgreen\") #Hoja\n",
    "        return\n",
    "\n",
    "    #Nodo\n",
    "    if (origen == \"0\"):\n",
    "        origen = str(node.condicion)\n",
    "    else:\n",
    "        arbol.node(origen, label=origen, shape=\"egg\", style=\"filled\",fontname=\"Century Gothic\",color=\"olivedrab2\", fillcolor=\"olivedrab2\", fontcolor=\"darkgreen\")\n",
    "        arbol.edge(origen, str(node.condicion), label=condicionA,fontname=\"Century Gothic\", color=\"olivedrab2:chartreuse3;0.25darkgreen\", fontcolor=\"darkgreen\") #Nodo\n",
    "        origen =str(node.condicion)\n",
    "        \n",
    "    #Rama True\n",
    "    visualizar_arbol(node.true_rama,origen,\"Si\")\n",
    "    \n",
    "    #Rama False\n",
    "    visualizar_arbol(node.false_rama,origen,\"No\")\n",
    "\n",
    "\n",
    "\n",
    "arbol = Digraph('G', filename='arbol.gv')\n",
    "print (\"---------------------- Cálculos ----------------------\", '\\n')\n",
    "arbol_resultado = construir_arbol(training_data)\n",
    "visualizar_arbol(arbol_resultado )\n",
    "arbol\n",
    "\n",
    "\n"
   ]
  },
  {
   "cell_type": "markdown",
   "metadata": {},
   "source": [
    "RANDOM FOREST"
   ]
  },
  {
   "cell_type": "markdown",
   "metadata": {},
   "source": [
    "Este algoritmo perteneciente al tipo de Machine Learning conocido como Aprendizaje Supervisado, es una combinación de árboles predictores, de modo que cada árbol depende de los valores del vector aleatorio muestra independientemente y con el mismo distribuidor para todos los árboles en el bosque. La generalización error para Random Forests converge conforme el límite de número de árboles crece. La generalización error de un bosque de árboles clasificadores depende de la fuerza que posea cada árbol individualmente en el bosque y la correlación entre ellos."
   ]
  },
  {
   "cell_type": "markdown",
   "metadata": {},
   "source": [
    "ALGUNOS USOS\n",
    "\n",
    "- Teledetección\n",
    "Usado en dispositivos ETM para adquirir imagenes de la superficie terrestre.\n",
    "Con una exactitud mayor y un tiempo de entrenamiento menor.\n",
    "- Detección de Objetos\n",
    "La detección de multiples clases se lleva a cabo mediante el uso de algoritmos RF.\n",
    "Provee mejor detección en ambientes complicados.\n",
    "- Kinect\n",
    "El dispositivo detector de movimiento utilizado por XBOX utiliza RF.\n",
    "Rastrea movimientos del sujeto y los recrea en el juego."
   ]
  },
  {
   "cell_type": "markdown",
   "metadata": {},
   "source": [
    "VENTAJAS\n",
    "\n",
    "- Sin overfitting\n",
    "    - Utilización de múltiples árboles, lo que reduuce el riesgo de overfitting.\n",
    "    - Tiempo de entrenamiento es menor.\n",
    "- Alta efectividad\n",
    "    - Corre eficientemente en base de datos grandes.\n",
    "    - Para datos grandes produce un nivel alto de efectividad.\n",
    "- Estima datos faltantes\n",
    "    - Random Forest puede mantener la exactitud inclusive cuando hacen falta algunos datos."
   ]
  },
  {
   "cell_type": "markdown",
   "metadata": {},
   "source": [
    "¿CÓMO LO HACE?\n",
    "\n",
    "Random Decision Forest es un método que opera al crear múltiples árboles de decisión durante la face de entrenamiento.\n",
    "La decisión de la mayoría de árboles es escogida por el Random Forest como decisión final.\n",
    "\n",
    "Supongamos que tenemos una entrada **_X_** y 3 árboles de decisión donde: "
   ]
  },
  {
   "cell_type": "markdown",
   "metadata": {},
   "source": [
    "| . | Árbol 1 | Árbol 2 | Árbol 3 | Random Forest | Elección |\n",
    "| --- | --- | --- | --- | --- | ---|\n",
    "| **Respueta** | Manzana | Naranja | Manzana  | . | . |\n",
    "| **Manzana** | . | . | . | 2 | **<--** |\n",
    "| **Naranja** | . | . | . | 1 | . |\n",
    "\n",
    "<br><br>\n",
    "Se puede apreciar cómo la respuesta de el Árbol 1 y 3 fue Manzana, a diferencia del 2 que dió como respuesta Naranja, para el parámetro **_X_**, luego el algorítmo Random Forest verifica los output de cada árbol y deduce que la respuesta correcta es aquella que posee mayores ocurrencias entre los árboles, por lo tanto se decide que la respuesta correcta para el prámetro **_X_** es Manzana."
   ]
  },
  {
   "cell_type": "markdown",
   "metadata": {},
   "source": [
    "CÓDIGO\n",
    "\n",
    "A continuación se muestra un código en python, en el cual se implementa una solución para el Algoritmo Random Forest, en este se utiliza un librería llamada scikit, de la cual se toma un banco de datos de lirios, el cual posee el largo y ancho del Sépalo y Pétalo en centimetros de esta especie de flores, de los cuales se puede deducir si el lirio es setosa, versicolor o virginica."
   ]
  },
  {
   "cell_type": "code",
   "execution_count": 63,
   "metadata": {},
   "outputs": [],
   "source": [
    "#!/usr/bin/env python -W ignore::DeprecationWarning\n",
    "\n",
    "#Librería para la carga de datos de lirios\n",
    "from sklearn.datasets import load_iris\n",
    "\n",
    "#Librería scikit que contiene el algorítmo de Random Forest\n",
    "from sklearn.ensemble import RandomForestClassifier\n",
    "\n",
    "#Librería pandas para crear el formato de los datos(tablas)\n",
    "import pandas as pd\n",
    "\n",
    "#Librería numpy para números aleatorios\n",
    "import numpy as np\n",
    "\n",
    "\n",
    "np.random.seed()"
   ]
  },
  {
   "cell_type": "code",
   "execution_count": 64,
   "metadata": {},
   "outputs": [
    {
     "data": {
      "text/html": [
       "<div>\n",
       "<style scoped>\n",
       "    .dataframe tbody tr th:only-of-type {\n",
       "        vertical-align: middle;\n",
       "    }\n",
       "\n",
       "    .dataframe tbody tr th {\n",
       "        vertical-align: top;\n",
       "    }\n",
       "\n",
       "    .dataframe thead th {\n",
       "        text-align: right;\n",
       "    }\n",
       "</style>\n",
       "<table border=\"1\" class=\"dataframe\">\n",
       "  <thead>\n",
       "    <tr style=\"text-align: right;\">\n",
       "      <th></th>\n",
       "      <th>Sépalo largo</th>\n",
       "      <th>Sépalo ancho</th>\n",
       "      <th>Pétalo largo</th>\n",
       "      <th>Pétalo ancho</th>\n",
       "    </tr>\n",
       "  </thead>\n",
       "  <tbody>\n",
       "    <tr>\n",
       "      <th>0</th>\n",
       "      <td>5.1</td>\n",
       "      <td>3.5</td>\n",
       "      <td>1.4</td>\n",
       "      <td>0.2</td>\n",
       "    </tr>\n",
       "    <tr>\n",
       "      <th>1</th>\n",
       "      <td>4.9</td>\n",
       "      <td>3.0</td>\n",
       "      <td>1.4</td>\n",
       "      <td>0.2</td>\n",
       "    </tr>\n",
       "    <tr>\n",
       "      <th>2</th>\n",
       "      <td>4.7</td>\n",
       "      <td>3.2</td>\n",
       "      <td>1.3</td>\n",
       "      <td>0.2</td>\n",
       "    </tr>\n",
       "    <tr>\n",
       "      <th>3</th>\n",
       "      <td>4.6</td>\n",
       "      <td>3.1</td>\n",
       "      <td>1.5</td>\n",
       "      <td>0.2</td>\n",
       "    </tr>\n",
       "    <tr>\n",
       "      <th>4</th>\n",
       "      <td>5.0</td>\n",
       "      <td>3.6</td>\n",
       "      <td>1.4</td>\n",
       "      <td>0.2</td>\n",
       "    </tr>\n",
       "  </tbody>\n",
       "</table>\n",
       "</div>"
      ],
      "text/plain": [
       "   Sépalo largo  Sépalo ancho  Pétalo largo  Pétalo ancho\n",
       "0           5.1           3.5           1.4           0.2\n",
       "1           4.9           3.0           1.4           0.2\n",
       "2           4.7           3.2           1.3           0.2\n",
       "3           4.6           3.1           1.5           0.2\n",
       "4           5.0           3.6           1.4           0.2"
      ]
     },
     "execution_count": 64,
     "metadata": {},
     "output_type": "execute_result"
    }
   ],
   "source": [
    "#Carga de los datos de lirios desde la libreria\n",
    "iris = load_iris()\n",
    "\n",
    "#Se crea una tabla con las caracteristicas de los datos\n",
    "tabla = pd.DataFrame(iris.data, columns=['Sépalo largo', 'Sépalo ancho', 'Pétalo largo','Pétalo ancho'])\n",
    "\n",
    "#Muestra las primeras 5 filas\n",
    "tabla.head()"
   ]
  },
  {
   "cell_type": "code",
   "execution_count": 65,
   "metadata": {},
   "outputs": [
    {
     "data": {
      "text/html": [
       "<div>\n",
       "<style scoped>\n",
       "    .dataframe tbody tr th:only-of-type {\n",
       "        vertical-align: middle;\n",
       "    }\n",
       "\n",
       "    .dataframe tbody tr th {\n",
       "        vertical-align: top;\n",
       "    }\n",
       "\n",
       "    .dataframe thead th {\n",
       "        text-align: right;\n",
       "    }\n",
       "</style>\n",
       "<table border=\"1\" class=\"dataframe\">\n",
       "  <thead>\n",
       "    <tr style=\"text-align: right;\">\n",
       "      <th></th>\n",
       "      <th>Sépalo largo</th>\n",
       "      <th>Sépalo ancho</th>\n",
       "      <th>Pétalo largo</th>\n",
       "      <th>Pétalo ancho</th>\n",
       "      <th>Especies</th>\n",
       "    </tr>\n",
       "  </thead>\n",
       "  <tbody>\n",
       "    <tr>\n",
       "      <th>0</th>\n",
       "      <td>5.1</td>\n",
       "      <td>3.5</td>\n",
       "      <td>1.4</td>\n",
       "      <td>0.2</td>\n",
       "      <td>setosa</td>\n",
       "    </tr>\n",
       "    <tr>\n",
       "      <th>1</th>\n",
       "      <td>4.9</td>\n",
       "      <td>3.0</td>\n",
       "      <td>1.4</td>\n",
       "      <td>0.2</td>\n",
       "      <td>setosa</td>\n",
       "    </tr>\n",
       "    <tr>\n",
       "      <th>2</th>\n",
       "      <td>4.7</td>\n",
       "      <td>3.2</td>\n",
       "      <td>1.3</td>\n",
       "      <td>0.2</td>\n",
       "      <td>setosa</td>\n",
       "    </tr>\n",
       "    <tr>\n",
       "      <th>3</th>\n",
       "      <td>4.6</td>\n",
       "      <td>3.1</td>\n",
       "      <td>1.5</td>\n",
       "      <td>0.2</td>\n",
       "      <td>setosa</td>\n",
       "    </tr>\n",
       "    <tr>\n",
       "      <th>4</th>\n",
       "      <td>5.0</td>\n",
       "      <td>3.6</td>\n",
       "      <td>1.4</td>\n",
       "      <td>0.2</td>\n",
       "      <td>setosa</td>\n",
       "    </tr>\n",
       "  </tbody>\n",
       "</table>\n",
       "</div>"
      ],
      "text/plain": [
       "   Sépalo largo  Sépalo ancho  Pétalo largo  Pétalo ancho Especies\n",
       "0           5.1           3.5           1.4           0.2   setosa\n",
       "1           4.9           3.0           1.4           0.2   setosa\n",
       "2           4.7           3.2           1.3           0.2   setosa\n",
       "3           4.6           3.1           1.5           0.2   setosa\n",
       "4           5.0           3.6           1.4           0.2   setosa"
      ]
     },
     "execution_count": 65,
     "metadata": {},
     "output_type": "execute_result"
    }
   ],
   "source": [
    "#Se agrega la columna Especies a la tabla (objetivo a predecir)\n",
    "tabla['Especies'] = pd.Categorical.from_codes(iris.target, iris.target_names)\n",
    "\n",
    "#Muestra las primeras 5 filas\n",
    "tabla.head()"
   ]
  },
  {
   "cell_type": "code",
   "execution_count": 66,
   "metadata": {},
   "outputs": [
    {
     "data": {
      "text/html": [
       "<div>\n",
       "<style scoped>\n",
       "    .dataframe tbody tr th:only-of-type {\n",
       "        vertical-align: middle;\n",
       "    }\n",
       "\n",
       "    .dataframe tbody tr th {\n",
       "        vertical-align: top;\n",
       "    }\n",
       "\n",
       "    .dataframe thead th {\n",
       "        text-align: right;\n",
       "    }\n",
       "</style>\n",
       "<table border=\"1\" class=\"dataframe\">\n",
       "  <thead>\n",
       "    <tr style=\"text-align: right;\">\n",
       "      <th></th>\n",
       "      <th>Sépalo largo</th>\n",
       "      <th>Sépalo ancho</th>\n",
       "      <th>Pétalo largo</th>\n",
       "      <th>Pétalo ancho</th>\n",
       "      <th>Especies</th>\n",
       "      <th>De Entrenamiento</th>\n",
       "    </tr>\n",
       "  </thead>\n",
       "  <tbody>\n",
       "    <tr>\n",
       "      <th>0</th>\n",
       "      <td>5.1</td>\n",
       "      <td>3.5</td>\n",
       "      <td>1.4</td>\n",
       "      <td>0.2</td>\n",
       "      <td>setosa</td>\n",
       "      <td>True</td>\n",
       "    </tr>\n",
       "    <tr>\n",
       "      <th>1</th>\n",
       "      <td>4.9</td>\n",
       "      <td>3.0</td>\n",
       "      <td>1.4</td>\n",
       "      <td>0.2</td>\n",
       "      <td>setosa</td>\n",
       "      <td>True</td>\n",
       "    </tr>\n",
       "    <tr>\n",
       "      <th>2</th>\n",
       "      <td>4.7</td>\n",
       "      <td>3.2</td>\n",
       "      <td>1.3</td>\n",
       "      <td>0.2</td>\n",
       "      <td>setosa</td>\n",
       "      <td>True</td>\n",
       "    </tr>\n",
       "    <tr>\n",
       "      <th>3</th>\n",
       "      <td>4.6</td>\n",
       "      <td>3.1</td>\n",
       "      <td>1.5</td>\n",
       "      <td>0.2</td>\n",
       "      <td>setosa</td>\n",
       "      <td>True</td>\n",
       "    </tr>\n",
       "    <tr>\n",
       "      <th>4</th>\n",
       "      <td>5.0</td>\n",
       "      <td>3.6</td>\n",
       "      <td>1.4</td>\n",
       "      <td>0.2</td>\n",
       "      <td>setosa</td>\n",
       "      <td>False</td>\n",
       "    </tr>\n",
       "  </tbody>\n",
       "</table>\n",
       "</div>"
      ],
      "text/plain": [
       "   Sépalo largo  Sépalo ancho  Pétalo largo  Pétalo ancho Especies  \\\n",
       "0           5.1           3.5           1.4           0.2   setosa   \n",
       "1           4.9           3.0           1.4           0.2   setosa   \n",
       "2           4.7           3.2           1.3           0.2   setosa   \n",
       "3           4.6           3.1           1.5           0.2   setosa   \n",
       "4           5.0           3.6           1.4           0.2   setosa   \n",
       "\n",
       "   De Entrenamiento  \n",
       "0              True  \n",
       "1              True  \n",
       "2              True  \n",
       "3              True  \n",
       "4             False  "
      ]
     },
     "execution_count": 66,
     "metadata": {},
     "output_type": "execute_result"
    }
   ],
   "source": [
    "#Se crear la columna De Entrenamiento (asigna 75% de los datos de manera aleatoria)\n",
    "tabla['De Entrenamiento'] = np.random.uniform(0, 1, len(tabla)) <= .75\n",
    "\n",
    "#Muestra las primeras 5 filas\n",
    "tabla.head()"
   ]
  },
  {
   "cell_type": "code",
   "execution_count": 67,
   "metadata": {},
   "outputs": [
    {
     "name": "stdout",
     "output_type": "stream",
     "text": [
      "Numero de observaciones en los datos de entrenamiento: 111\n",
      "Numero de observaciones en los datos de prueba: 39\n"
     ]
    }
   ],
   "source": [
    "#Se crean 2 tablas una para entrenamiento y otra para prueba\n",
    "entrenamiento = tabla[tabla['De Entrenamiento']==True]\n",
    "prueba =        tabla[tabla['De Entrenamiento']==False]\n",
    "\n",
    "print('Numero de observaciones en los datos de entrenamiento:', len(entrenamiento))\n",
    "print('Numero de observaciones en los datos de prueba:', len(prueba))"
   ]
  },
  {
   "cell_type": "code",
   "execution_count": 68,
   "metadata": {},
   "outputs": [
    {
     "data": {
      "text/plain": [
       "Index(['Sépalo largo', 'Sépalo ancho', 'Pétalo largo', 'Pétalo ancho'], dtype='object')"
      ]
     },
     "execution_count": 68,
     "metadata": {},
     "output_type": "execute_result"
    }
   ],
   "source": [
    "#Asigna las caracteristicas (primeras 4 colum) a una variables\n",
    "caracteristicas = tabla.columns[:4]\n",
    "\n",
    "#Imprime la lista\n",
    "caracteristicas"
   ]
  },
  {
   "cell_type": "code",
   "execution_count": 69,
   "metadata": {},
   "outputs": [
    {
     "data": {
      "text/plain": [
       "array([0, 0, 0, 0, 0, 0, 0, 0, 0, 0, 0, 0, 0, 0, 0, 0, 0, 0, 0, 0, 0, 0,\n",
       "       0, 0, 0, 0, 0, 0, 0, 0, 0, 0, 0, 0, 0, 0, 0, 0, 0, 0, 0, 1, 1, 1,\n",
       "       1, 1, 1, 1, 1, 1, 1, 1, 1, 1, 1, 1, 1, 1, 1, 1, 1, 1, 1, 1, 1, 1,\n",
       "       1, 1, 1, 1, 1, 1, 1, 1, 1, 1, 2, 2, 2, 2, 2, 2, 2, 2, 2, 2, 2, 2,\n",
       "       2, 2, 2, 2, 2, 2, 2, 2, 2, 2, 2, 2, 2, 2, 2, 2, 2, 2, 2, 2, 2, 2,\n",
       "       2], dtype=int32)"
      ]
     },
     "execution_count": 69,
     "metadata": {},
     "output_type": "execute_result"
    }
   ],
   "source": [
    "#transforma Especies (setosa, versicolor, virginica) en (0s, 1s y 2s) respectivamente para un merjor manejo\n",
    "y = pd.factorize(entrenamiento['Especies'])[0]\n",
    "\n",
    "y"
   ]
  },
  {
   "cell_type": "code",
   "execution_count": 70,
   "metadata": {},
   "outputs": [
    {
     "data": {
      "text/plain": [
       "RandomForestClassifier(bootstrap=True, class_weight=None, criterion='gini',\n",
       "            max_depth=None, max_features='auto', max_leaf_nodes=None,\n",
       "            min_impurity_decrease=0.0, min_impurity_split=None,\n",
       "            min_samples_leaf=1, min_samples_split=2,\n",
       "            min_weight_fraction_leaf=0.0, n_estimators=10, n_jobs=2,\n",
       "            oob_score=False, random_state=0, verbose=0, warm_start=False)"
      ]
     },
     "execution_count": 70,
     "metadata": {},
     "output_type": "execute_result"
    }
   ],
   "source": [
    "#Crea el RandomForestClassifier con jobs=2 y random_state=0 por estandar\n",
    "clf = RandomForestClassifier(n_jobs=2, random_state=0)\n",
    "\n",
    "#Entrenamiento del clasificador\n",
    "clf.fit(entrenamiento[caracteristicas], y)"
   ]
  },
  {
   "cell_type": "code",
   "execution_count": 71,
   "metadata": {},
   "outputs": [
    {
     "data": {
      "text/plain": [
       "array([[1. , 0. , 0. ],\n",
       "       [1. , 0. , 0. ],\n",
       "       [1. , 0. , 0. ],\n",
       "       [0.9, 0.1, 0. ],\n",
       "       [1. , 0. , 0. ],\n",
       "       [1. , 0. , 0. ],\n",
       "       [1. , 0. , 0. ],\n",
       "       [1. , 0. , 0. ],\n",
       "       [1. , 0. , 0. ],\n",
       "       [0. , 0.9, 0.1]])"
      ]
     },
     "execution_count": 71,
     "metadata": {},
     "output_type": "execute_result"
    }
   ],
   "source": [
    "#Una vez entrenado el clasificador\n",
    "#Se intenta predecir los valores con los datos de prueba (25%)\n",
    "result = clf.predict(prueba[caracteristicas])\n",
    "\n",
    "#Imprime las probabilidades de predicción de las primeras 10 observaciones\n",
    "clf.predict_proba(prueba[caracteristicas])[0:10]"
   ]
  },
  {
   "cell_type": "code",
   "execution_count": 72,
   "metadata": {},
   "outputs": [
    {
     "data": {
      "text/plain": [
       "array(['setosa', 'setosa', 'setosa', 'setosa', 'setosa', 'setosa',\n",
       "       'setosa', 'setosa', 'setosa', 'versicolor', 'versicolor',\n",
       "       'versicolor', 'versicolor', 'versicolor', 'virginica',\n",
       "       'versicolor', 'versicolor', 'versicolor', 'versicolor',\n",
       "       'versicolor', 'versicolor', 'versicolor', 'versicolor',\n",
       "       'versicolor', 'virginica'], dtype='<U10')"
      ]
     },
     "execution_count": 72,
     "metadata": {},
     "output_type": "execute_result"
    }
   ],
   "source": [
    "#transforma los 0s, 1s y 2s en su respectivo nombre setosa, versicolor, virginica\n",
    "preds = iris.target_names[result]\n",
    "\n",
    "#imprime las predicciones\n",
    "preds[0:25]"
   ]
  },
  {
   "cell_type": "code",
   "execution_count": 73,
   "metadata": {},
   "outputs": [
    {
     "data": {
      "text/plain": [
       "4     setosa\n",
       "8     setosa\n",
       "9     setosa\n",
       "14    setosa\n",
       "30    setosa\n",
       "Name: Especies, dtype: category\n",
       "Categories (3, object): [setosa, versicolor, virginica]"
      ]
     },
     "execution_count": 73,
     "metadata": {},
     "output_type": "execute_result"
    }
   ],
   "source": [
    "#Imprime el valor real de la especie para luego\n",
    "#verificar si la predicción fue buena\n",
    "real = prueba['Especies']\n",
    "\n",
    "#Muestra los primeros 5 valores\n",
    "real.head()"
   ]
  },
  {
   "cell_type": "code",
   "execution_count": 74,
   "metadata": {},
   "outputs": [
    {
     "data": {
      "text/html": [
       "<div>\n",
       "<style scoped>\n",
       "    .dataframe tbody tr th:only-of-type {\n",
       "        vertical-align: middle;\n",
       "    }\n",
       "\n",
       "    .dataframe tbody tr th {\n",
       "        vertical-align: top;\n",
       "    }\n",
       "\n",
       "    .dataframe thead th {\n",
       "        text-align: right;\n",
       "    }\n",
       "</style>\n",
       "<table border=\"1\" class=\"dataframe\">\n",
       "  <thead>\n",
       "    <tr style=\"text-align: right;\">\n",
       "      <th>Especies Predecidas</th>\n",
       "      <th>setosa</th>\n",
       "      <th>versicolor</th>\n",
       "      <th>virginica</th>\n",
       "    </tr>\n",
       "    <tr>\n",
       "      <th>Especies Reales</th>\n",
       "      <th></th>\n",
       "      <th></th>\n",
       "      <th></th>\n",
       "    </tr>\n",
       "  </thead>\n",
       "  <tbody>\n",
       "    <tr>\n",
       "      <th>setosa</th>\n",
       "      <td>9</td>\n",
       "      <td>0</td>\n",
       "      <td>0</td>\n",
       "    </tr>\n",
       "    <tr>\n",
       "      <th>versicolor</th>\n",
       "      <td>0</td>\n",
       "      <td>14</td>\n",
       "      <td>1</td>\n",
       "    </tr>\n",
       "    <tr>\n",
       "      <th>virginica</th>\n",
       "      <td>0</td>\n",
       "      <td>2</td>\n",
       "      <td>13</td>\n",
       "    </tr>\n",
       "  </tbody>\n",
       "</table>\n",
       "</div>"
      ],
      "text/plain": [
       "Especies Predecidas  setosa  versicolor  virginica\n",
       "Especies Reales                                   \n",
       "setosa                    9           0          0\n",
       "versicolor                0          14          1\n",
       "virginica                 0           2         13"
      ]
     },
     "execution_count": 74,
     "metadata": {},
     "output_type": "execute_result"
    }
   ],
   "source": [
    "#Crea e imprime una matriz entre la interseccion de real y predicciones\n",
    "final = pd.crosstab(prueba['Especies'], preds, rownames=['Especies Reales'], colnames=['Especies Predecidas'])\n",
    "\n",
    "final"
   ]
  },
  {
   "cell_type": "code",
   "execution_count": 75,
   "metadata": {},
   "outputs": [
    {
     "name": "stdout",
     "output_type": "stream",
     "text": [
      "Total datos de prueba: 39.0\n",
      "Numero de Exitos: 36\n"
     ]
    },
    {
     "data": {
      "text/plain": [
       "0.9230769230769231"
      ]
     },
     "execution_count": 75,
     "metadata": {},
     "output_type": "execute_result"
    }
   ],
   "source": [
    "numExitos = final.loc['setosa','setosa'] + final.loc['versicolor','versicolor'] + final.loc['virginica','virginica']\n",
    "\n",
    "total = len(prueba.index)*1.0\n",
    "\n",
    "efectividad = numExitos/total\n",
    "\n",
    "print('Total datos de prueba:', total)\n",
    "print('Numero de Exitos:', numExitos)\n",
    "\n",
    "\n",
    "efectividad"
   ]
  },
  {
   "cell_type": "markdown",
   "metadata": {},
   "source": [
    "REFERENCIAS"
   ]
  },
  {
   "cell_type": "markdown",
   "metadata": {},
   "source": [
    "- Alto Nivel. (2013, 1 julio). Árbol de decisión, una herramienta para decidir bien. Recuperado 10 septiembre, 2018, de https://www.altonivel.com.mx/liderazgo/management/36690-arbol-de-decision-una-herramienta-para-decidir-correctamente/\n",
    "- Breiman. L. (2001) RANDOM FORESTS. Setiembre 8, 2018. de Statistics Department University of California Berkeley, CA 94720\n",
    "- Sancho C. F. Aprendizaje Inductivo: Árboles de Decisión - Fernando Sancho Caparrini. Recuperado 10 septiembre, 2018, de http://www.cs.us.es/%7Efsancho/?e=104\n",
    "- Simplilearn. (2018) Random Forest Algorithm - Random Forest Explained | Random Forest In Machine Learning | Simplilearn. Sitio web: https://www.slideshare.net/Simplilearn/random-forest-algorithm-random-forest-explained-random-forest-in-machine-learning-simplilearn-91647398\n"
   ]
  }
 ],
 "metadata": {
  "kernelspec": {
   "display_name": "Python 3",
   "language": "python",
   "name": "python3"
  },
  "language_info": {
   "codemirror_mode": {
    "name": "ipython",
    "version": 3
   },
   "file_extension": ".py",
   "mimetype": "text/x-python",
   "name": "python",
   "nbconvert_exporter": "python",
   "pygments_lexer": "ipython3",
   "version": "3.7.0"
  }
 },
 "nbformat": 4,
 "nbformat_minor": 2
}
